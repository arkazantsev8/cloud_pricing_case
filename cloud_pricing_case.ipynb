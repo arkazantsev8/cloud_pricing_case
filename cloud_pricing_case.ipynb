{
 "cells": [
  {
   "attachments": {},
   "cell_type": "markdown",
   "metadata": {},
   "source": [
    "The purpose of this paper is to compare pricing plans for two cloud computing services On-Demand service and Reserved service. On-Demand service suggests weekly payments for actual consumption of cloud resources while Reserved suggests payments in advance for a certain period of time, say a year. The paper consists of three sections. In Section 1 we present our approach to the problem. Section 2 describes how we estimated required reserves for On-Demand service which is crucial for analysis. Section 3 presents our results and their comparison to real data and summarizes our analysis.\n",
    "\n",
    "# 1. General Approach\n",
    "Our analysis is based on two main assumptions:\n",
    "1. Consuming one instance of On-Demand service is equal to consuming $\\alpha$ instances of Reserved services. The intuition behind this is quite simple - as customers goes into On-Demand contract, the provider will have to create additional reserves $(\\alpha-1$ instance) in order to be able to meet extra demand. Naturally, the provider will charge the client for maintaining this reserves and consequently buying one instance of On-Demand service will be the same for the customer as buying $\\alpha$ instances of Reserved service\n",
    "2. Our customers are rational. This means that if they discover that annual price of one On-Demand instance does not equal to annual price of using $\\alpha$ instances of Reserved service, they will switch to the cheaper service. Thus, if we want the customers to use both services we need to maintain these prices equal.\n",
    "\n",
    "Now let us derive annual price for one instance of On-Demand service. Assume there is $\\mathcal{T}$ periods in a year. Let $p^{O D}$ be price of using one On-Demand instance for $1 / \\mathcal{T}$ of a year and let $r$ be interest rate. Then annual price $\\mathcal{P}^{O D}$ of one On-Demand instance will be equal to present value of $\\mathcal{T}$ payments of $p^{O D}$ during the year:\n",
    "\n",
    "$$\n",
    "\\mathcal{P}^{O D}=\\sum_{\\tau=1}^{\\mathcal{T}} \\frac{p^{O D}}{(1+r / \\mathcal{T})^{\\tau}}\n",
    "$$\n",
    "\n",
    "Let $p^{R E}$ be price for using one On-Demand instance for $1 / \\mathcal{T}$ of a year. Since all the payments are made in advance in the beginning of the period, annual price $\\mathcal{P}^{R E}$ of one Reserved instance will be:\n",
    "\n",
    "$$\n",
    "\\mathcal{P}^{R E}=\\mathcal{T} p^{R E}\n",
    "$$\n",
    "\n",
    "Customers rationality condition suggests $\\mathcal{P}^{O D}=\\alpha \\mathcal{P}^{R E}$ and thus we obtain:\n",
    "\n",
    "$$\n",
    "\\sum_{\\tau=1}^{\\mathcal{T}} \\frac{p^{O D}}{(1+r / \\mathcal{T})^{\\tau}}=\\alpha \\mathcal{T} p^{R E}\n",
    "$$\n",
    "\n",
    "Our purpose is to estimate $\\beta=p^{O D} / p^{R E}$. To do it we just need to know $\\alpha$. Section 2 describes its estimation.\n",
    "\n",
    "# 2. Estimating Reserves for On-Demand Service\n",
    "\n",
    "Since all customers are homogeneous with respect to mean and standard deviation of their consumption, we assume that on-demand consumption of each customer $i=1 \\ldots N$ follows:\n",
    "\n",
    "$$\n",
    "C_{t}^{i}=C_{t-1}^{i}+\\sigma \\varepsilon_{t}^{i},\n",
    "$$\n",
    "\n",
    "where $C_{0}^{i}=\\mu$ and consumption shock $\\varepsilon_{t}^{i}$ is $\\mathrm{i}$-th element of random $N \\times 1$ vector $\\varepsilon_{t}$ drawn from multivariate normal distribution $\\mathcal{N}(0, \\Sigma)$ where $\\Sigma$ is $N \\times N$ matrix such that:\n",
    "\n",
    "$$\n",
    "\\Sigma=\\left(\\begin{array}{ccccc}\n",
    "1 & \\rho & \\rho & \\ldots & \\rho \\\\\n",
    "\\rho & 1 & \\rho & \\ldots & \\rho \\\\\n",
    "\\ldots & \\ldots & \\ldots & \\ldots & \\ldots \\\\\n",
    "\\rho & \\rho & \\rho & \\ldots & 1\n",
    "\\end{array}\\right)\n",
    "$$\n",
    "\n",
    "For each period $t$ we define average consumption $C_{t}$ as:\n",
    "\n",
    "$$\n",
    "C_{t}=\\frac{1}{N} \\sum_{i=1}^{N} C_{t}^{i} .\n",
    "$$\n",
    "\n",
    "Then $C_{0}=\\mu$ and $C_{t}=C_{t-1}+\\sigma \\xi_{t}$, where $\\xi_{t}=\\frac{1}{N} \\sum_{i=1}^{N} \\varepsilon_{t}^{i}$ is average consumption shock. In matrix form we may write this as\n",
    "\n",
    "$$\n",
    "\\xi_{t}=\\frac{1}{N} B \\varepsilon_{t},\n",
    "$$\n",
    "\n",
    "where B is $1 \\times N$ unit row: $B=\\left(\\begin{array}{llll}1 & 1 & \\ldots & 1\\end{array}\\right)$ Since $\\xi_{t}$ is affine transformation of $\\varepsilon_{t}$, its distribution will be the following:\n",
    "\n",
    "$$\n",
    "\\xi_{t} \\sim \\mathcal{N}\\left(0, \\frac{1}{N^{2}} B \\Sigma B^{T}\\right)\n",
    "$$\n",
    "\n",
    "As $N$ tends to infinity (we have tens of thousands of users), we obtain:\n",
    "\n",
    "$$\n",
    "\\xi_{t} \\sim \\mathcal{N}\\left(0, \\frac{1}{N^{2}}(N+N(N-1) \\rho)\\right) \\stackrel{d}{\\rightarrow} \\mathcal{N}(0, \\rho)\n",
    "$$\n",
    "\n",
    "Then $C_{t}$ may be written as:\n",
    "\n",
    "$$\n",
    "C_{t}=\\mu+\\sigma \\sum_{\\tau=0}^{t} \\xi_{\\tau}\n",
    "$$\n",
    "\n",
    "We require $R$, the reserves we make, to satisfy:\n",
    "\n",
    "$$\n",
    "\\operatorname{Pr} \\left ( \\max _{t \\in[0 ; T]} C_{t} < R \\right) \\geq \\pi,\n",
    "$$\n",
    "\n",
    "where $\\pi$ is confidence level probability and $T$ is considered time horizon. We may think of $T$ as a period of time required to deploy new capacities. Indeed, it is easy to show that $R$ increases with $T$. It means that if we are able to provide extra resources with very short lag we do need massive reserves and vice versa. We know that time from ordering new capacities to their deployment is approximately 12 weeks, thus we may take $T=12$ in our further analysis.\n",
    "\n",
    "Unfortunately, it is hard to derive distribution of $\\max _{t \\in[0 ; T]} C_{t}$ analytically, but we may employ Monte-Carlo approach. We assume $T=12, \\rho=0.7, \\mu=1, \\sigma=0.0338$ and $\\pi=99.999 \\%$. \n"
   ]
  },
  {
   "cell_type": "code",
   "execution_count": 1,
   "metadata": {
    "nbpresent": {
     "id": "5ed4d899-811a-48c3-b264-68197a05e5e3"
    }
   },
   "outputs": [],
   "source": [
    "%matplotlib inline\n",
    "import matplotlib.pyplot as plt \n",
    "import pandas as pd\n",
    "import numpy as np\n",
    "from tqdm import tqdm\n",
    "import statsmodels.api as sm"
   ]
  },
  {
   "cell_type": "code",
   "execution_count": 2,
   "metadata": {
    "collapsed": true,
    "nbpresent": {
     "id": "3b0564b7-dcb7-40f4-ad70-12a105aa1617"
    }
   },
   "outputs": [],
   "source": [
    "T = 12#number of periods\n",
    "r = .15 #interest rate\n",
    "cons_rho = .7 #consumption correlation\n",
    "cons_std = .0338 # st. deviation of weekly consumption\n",
    "conf_level = 99.999 \n",
    "mu = 1 #average consumption"
   ]
  },
  {
   "attachments": {},
   "cell_type": "markdown",
   "metadata": {},
   "source": [
    "One million of Monte-Carlo simulations yield us the following empirical distribution of $\\max _{t \\in[0 ; T]} C_{t}$ :"
   ]
  },
  {
   "cell_type": "code",
   "execution_count": 3,
   "metadata": {
    "collapsed": true
   },
   "outputs": [
    {
     "name": "stderr",
     "output_type": "stream",
     "text": [
      "100%|██████████| 1000000/1000000 [00:09<00:00, 102470.87it/s]\n"
     ]
    }
   ],
   "source": [
    "def cons_max():\n",
    "    shocks = cons_std * np.random.normal(0, cons_rho**(1/2), size=T)\n",
    "    shocks_cum = np.cumsum(shocks)\n",
    "    return mu + np.max(shocks_cum)\n",
    "\n",
    "cons_peaks = [cons_max() for x in tqdm(range(1000000))]\n"
   ]
  },
  {
   "cell_type": "code",
   "execution_count": 4,
   "metadata": {},
   "outputs": [
    {
     "data": {
      "image/png": "[encoded data removed]",
      "text/plain": [
       "<Figure size 720x504 with 1 Axes>"
      ]
     },
     "metadata": {
      "needs_background": "light"
     },
     "output_type": "display_data"
    }
   ],
   "source": [
    "alpha = np.percentile(cons_peaks,q=conf_level) / mu\n",
    "plt.figure(figsize=[10,7])\n",
    "plt.hist(cons_peaks, color='navy', bins=500, density=True)\n",
    "plt.scatter(x=alpha,y=0, color='red', label='99.999 percentile')\n",
    "plt.title('Empirical distribution of $\\max C_t$')\n",
    "plt.legend()\n",
    "plt.show()"
   ]
  },
  {
   "attachments": {},
   "cell_type": "markdown",
   "metadata": {},
   "source": [
    "We have $R \\approx 1.42$ and $\\alpha=R / \\mu=1.42$ as well. This means that for each 100 instances that our client uses on-demand we have to hold more than 40 reserve instances in order to hedge the risk of capacity shortage.\n"
   ]
  },
  {
   "attachments": {},
   "cell_type": "markdown",
   "metadata": {},
   "source": [
    "# 3.The Results\n",
    "Recall Section 1. We have:\n",
    "\n",
    "$$\n",
    "\\sum_{\\tau=1}^{\\mathcal{T}} \\frac{p^{O D}}{(1+r / \\mathcal{T})^{\\tau}}=\\alpha \\mathcal{T} p^{R E}\n",
    "$$\n",
    "\n"
   ]
  },
  {
   "cell_type": "code",
   "execution_count": 5,
   "metadata": {},
   "outputs": [
    {
     "data": {
      "text/plain": [
       "1.524139745378817"
      ]
     },
     "execution_count": 5,
     "metadata": {},
     "output_type": "execute_result"
    }
   ],
   "source": [
    "def dcf(r, n_periods):\n",
    "    return np.sum( [1/(1+r/n_periods)**(i+1) for i in range(n_periods)])\n",
    "     \n",
    "def p_ratio (r, alpha, T):\n",
    "    return alpha * T / dcf(r,T)\n",
    "\n",
    "\n",
    "p_ratio(r, alpha, 52)"
   ]
  },
  {
   "attachments": {},
   "cell_type": "markdown",
   "metadata": {},
   "source": [
    "We have $\\mathcal{T}=52, r=0.15, \\alpha=1.42$ and obtain $\\beta=p^{O D} / p^{R E} \\approx 1.53$. So we may conclude that price of one on-demand instance should be at least $53 \\%$ higher than price of a similar reserved instance."
   ]
  },
  {
   "attachments": {},
   "cell_type": "markdown",
   "metadata": {},
   "source": [
    "Now let us check how our findings correspond with the market data. We have downloaded more than 50 prices $p^{R E}$ and $p^{O D}$ for different types of instances offered by Amazon Web Services (see data file attached). At the graph below you can see their scatter plot with OLS regression line $\\left(\\beta^{O L S} \\approx 1.61\\right)$ compared with our model predictions:"
   ]
  },
  {
   "cell_type": "code",
   "execution_count": 6,
   "metadata": {},
   "outputs": [
    {
     "data": {
      "text/html": [
       "<div>\n",
       "<style scoped>\n",
       "    .dataframe tbody tr th:only-of-type {\n",
       "        vertical-align: middle;\n",
       "    }\n",
       "\n",
       "    .dataframe tbody tr th {\n",
       "        vertical-align: top;\n",
       "    }\n",
       "\n",
       "    .dataframe thead th {\n",
       "        text-align: right;\n",
       "    }\n",
       "</style>\n",
       "<table border=\"1\" class=\"dataframe\">\n",
       "  <thead>\n",
       "    <tr style=\"text-align: right;\">\n",
       "      <th></th>\n",
       "      <th>instance_type</th>\n",
       "      <th>p_RE</th>\n",
       "      <th>p_OD</th>\n",
       "      <th>p_ratio</th>\n",
       "    </tr>\n",
       "  </thead>\n",
       "  <tbody>\n",
       "    <tr>\n",
       "      <th>0</th>\n",
       "      <td>t2.nano</td>\n",
       "      <td>0.003</td>\n",
       "      <td>0.0058</td>\n",
       "      <td>1.933333</td>\n",
       "    </tr>\n",
       "    <tr>\n",
       "      <th>1</th>\n",
       "      <td>t2.micro</td>\n",
       "      <td>0.007</td>\n",
       "      <td>0.0116</td>\n",
       "      <td>1.657143</td>\n",
       "    </tr>\n",
       "    <tr>\n",
       "      <th>2</th>\n",
       "      <td>t2.small</td>\n",
       "      <td>0.013</td>\n",
       "      <td>0.0230</td>\n",
       "      <td>1.769231</td>\n",
       "    </tr>\n",
       "    <tr>\n",
       "      <th>3</th>\n",
       "      <td>t2.medium</td>\n",
       "      <td>0.027</td>\n",
       "      <td>0.0464</td>\n",
       "      <td>1.718519</td>\n",
       "    </tr>\n",
       "    <tr>\n",
       "      <th>4</th>\n",
       "      <td>t2.large</td>\n",
       "      <td>0.054</td>\n",
       "      <td>0.0928</td>\n",
       "      <td>1.718519</td>\n",
       "    </tr>\n",
       "  </tbody>\n",
       "</table>\n",
       "</div>"
      ],
      "text/plain": [
       "  instance_type   p_RE    p_OD   p_ratio\n",
       "0       t2.nano  0.003  0.0058  1.933333\n",
       "1      t2.micro  0.007  0.0116  1.657143\n",
       "2      t2.small  0.013  0.0230  1.769231\n",
       "3     t2.medium  0.027  0.0464  1.718519\n",
       "4      t2.large  0.054  0.0928  1.718519"
      ]
     },
     "execution_count": 6,
     "metadata": {},
     "output_type": "execute_result"
    }
   ],
   "source": [
    "aws_prices = pd.read_excel('aws_prices.xlsx').iloc[:,:4]\n",
    "aws_prices.head()"
   ]
  },
  {
   "cell_type": "code",
   "execution_count": 7,
   "metadata": {},
   "outputs": [
    {
     "data": {
      "text/html": [
       "<table class=\"simpletable\">\n",
       "<caption>OLS Regression Results</caption>\n",
       "<tr>\n",
       "  <th>Dep. Variable:</th>          <td>p_OD</td>       <th>  R-squared (uncentered):</th>      <td>   0.997</td> \n",
       "</tr>\n",
       "<tr>\n",
       "  <th>Model:</th>                   <td>OLS</td>       <th>  Adj. R-squared (uncentered):</th> <td>   0.997</td> \n",
       "</tr>\n",
       "<tr>\n",
       "  <th>Method:</th>             <td>Least Squares</td>  <th>  F-statistic:       </th>          <td>1.952e+04</td>\n",
       "</tr>\n",
       "<tr>\n",
       "  <th>Date:</th>             <td>Wed, 04 Jan 2023</td> <th>  Prob (F-statistic):</th>          <td>8.61e-71</td> \n",
       "</tr>\n",
       "<tr>\n",
       "  <th>Time:</th>                 <td>08:21:51</td>     <th>  Log-Likelihood:    </th>          <td> -5.7323</td> \n",
       "</tr>\n",
       "<tr>\n",
       "  <th>No. Observations:</th>      <td>    55</td>      <th>  AIC:               </th>          <td>   13.46</td> \n",
       "</tr>\n",
       "<tr>\n",
       "  <th>Df Residuals:</th>          <td>    54</td>      <th>  BIC:               </th>          <td>   15.47</td> \n",
       "</tr>\n",
       "<tr>\n",
       "  <th>Df Model:</th>              <td>     1</td>      <th>                     </th>              <td> </td>    \n",
       "</tr>\n",
       "<tr>\n",
       "  <th>Covariance Type:</th>      <td>nonrobust</td>    <th>                     </th>              <td> </td>    \n",
       "</tr>\n",
       "</table>\n",
       "<table class=\"simpletable\">\n",
       "<tr>\n",
       "    <td></td>      <th>coef</th>     <th>std err</th>      <th>t</th>      <th>P>|t|</th>  <th>[0.025</th>    <th>0.975]</th>  \n",
       "</tr>\n",
       "<tr>\n",
       "  <th>p_RE</th> <td>    1.6062</td> <td>    0.011</td> <td>  139.706</td> <td> 0.000</td> <td>    1.583</td> <td>    1.629</td>\n",
       "</tr>\n",
       "</table>\n",
       "<table class=\"simpletable\">\n",
       "<tr>\n",
       "  <th>Omnibus:</th>       <td>45.495</td> <th>  Durbin-Watson:     </th> <td>   1.035</td>\n",
       "</tr>\n",
       "<tr>\n",
       "  <th>Prob(Omnibus):</th> <td> 0.000</td> <th>  Jarque-Bera (JB):  </th> <td> 186.107</td>\n",
       "</tr>\n",
       "<tr>\n",
       "  <th>Skew:</th>          <td> 2.243</td> <th>  Prob(JB):          </th> <td>3.87e-41</td>\n",
       "</tr>\n",
       "<tr>\n",
       "  <th>Kurtosis:</th>      <td>10.816</td> <th>  Cond. No.          </th> <td>    1.00</td>\n",
       "</tr>\n",
       "</table><br/><br/>Notes:<br/>[1] R² is computed without centering (uncentered) since the model does not contain a constant.<br/>[2] Standard Errors assume that the covariance matrix of the errors is correctly specified."
      ],
      "text/plain": [
       "<class 'statsmodels.iolib.summary.Summary'>\n",
       "\"\"\"\n",
       "                                 OLS Regression Results                                \n",
       "=======================================================================================\n",
       "Dep. Variable:                   p_OD   R-squared (uncentered):                   0.997\n",
       "Model:                            OLS   Adj. R-squared (uncentered):              0.997\n",
       "Method:                 Least Squares   F-statistic:                          1.952e+04\n",
       "Date:                Wed, 04 Jan 2023   Prob (F-statistic):                    8.61e-71\n",
       "Time:                        08:21:51   Log-Likelihood:                         -5.7323\n",
       "No. Observations:                  55   AIC:                                      13.46\n",
       "Df Residuals:                      54   BIC:                                      15.47\n",
       "Df Model:                           1                                                  \n",
       "Covariance Type:            nonrobust                                                  \n",
       "==============================================================================\n",
       "                 coef    std err          t      P>|t|      [0.025      0.975]\n",
       "------------------------------------------------------------------------------\n",
       "p_RE           1.6062      0.011    139.706      0.000       1.583       1.629\n",
       "==============================================================================\n",
       "Omnibus:                       45.495   Durbin-Watson:                   1.035\n",
       "Prob(Omnibus):                  0.000   Jarque-Bera (JB):              186.107\n",
       "Skew:                           2.243   Prob(JB):                     3.87e-41\n",
       "Kurtosis:                      10.816   Cond. No.                         1.00\n",
       "==============================================================================\n",
       "\n",
       "Notes:\n",
       "[1] R² is computed without centering (uncentered) since the model does not contain a constant.\n",
       "[2] Standard Errors assume that the covariance matrix of the errors is correctly specified.\n",
       "\"\"\""
      ]
     },
     "execution_count": 7,
     "metadata": {},
     "output_type": "execute_result"
    }
   ],
   "source": [
    "model = sm.OLS(aws_prices['p_OD'], aws_prices['p_RE'])\n",
    "res = model.fit()\n",
    "res.summary()"
   ]
  },
  {
   "cell_type": "code",
   "execution_count": 8,
   "metadata": {},
   "outputs": [
    {
     "data": {
      "image/png": "[encoded data removed]",
      "text/plain": [
       "<Figure size 720x504 with 1 Axes>"
      ]
     },
     "metadata": {
      "needs_background": "light"
     },
     "output_type": "display_data"
    }
   ],
   "source": [
    "aws_prices = aws_prices[aws_prices['p_RE']<6]\n",
    "\n",
    "plt.figure(figsize=[10,7])\n",
    "plt.scatter(x=aws_prices['p_RE'], y=aws_prices['p_OD'], s=4, color='navy', label=None)\n",
    "plt.plot([0,np.max(aws_prices['p_RE'])], [0,res.params['p_RE'] * np.max(aws_prices['p_RE'])], color='red', \n",
    "                                                                                              label='data (OLS)')\n",
    "plt.plot([0,np.max(aws_prices['p_RE'])], [0,1.532 * np.max(aws_prices['p_RE'])], color='green', \n",
    "                                                                                              label='model')\n",
    "\n",
    "plt.xlabel('p_RE')\n",
    "plt.ylabel('p_OD')\n",
    "plt.legend()\n",
    "plt.title('On-Demand Price vs Reserved Price: data vs model')\n",
    "plt.show()"
   ]
  },
  {
   "attachments": {},
   "cell_type": "markdown",
   "metadata": {},
   "source": [
    "As we can see, we seem to be very close to the market data and we cannot reject our model immediately. Underestimation may be explained by the fact, that we have not included another risk factors in our analysis, which could increase required reserves. Also, we need more data to ensure our model works well."
   ]
  }
 ],
 "metadata": {
  "kernelspec": {
   "display_name": "base",
   "language": "python",
   "name": "python3"
  },
  "language_info": {
   "codemirror_mode": {
    "name": "ipython",
    "version": 3
   },
   "file_extension": ".py",
   "mimetype": "text/x-python",
   "name": "python",
   "nbconvert_exporter": "python",
   "pygments_lexer": "ipython3",
   "version": "3.8.8"
  },
  "vscode": {
   "interpreter": {
    "hash": "9a7f5d181cedec745eb8822750f04396f5f7e4271e84f065f66f8e421aedc9e4"
   }
  }
 },
 "nbformat": 4,
 "nbformat_minor": 2
}
